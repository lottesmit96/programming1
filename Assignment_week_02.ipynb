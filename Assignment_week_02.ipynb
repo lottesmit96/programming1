{
 "cells": [
  {
   "cell_type": "markdown",
   "metadata": {},
   "source": [
    "# Week 02 Assignment glucose level data\n",
    "\n",
    "Welcome to week two of this course programming 1. You will learn about time related data wrangling with pandas and you will learn to visualize with bokeh. This week will be focussed around missing data. Concretely, you will preprocess the glucose json file using interpolation to impute in order to conduct visual analysis. Learning outcomes:\n",
    "\n",
    "- load a json dataset \n",
    "- typecast the Pandas DataFrame to appropiate data types\n",
    "- inspect the dataset for quality and metadata information\n",
    "- add a column with interpolated data in Pandas DataFrame\n",
    "- perform visual analysis\n",
    "\n",
    "The assignment consists of 6 parts:\n",
    "\n",
    "- [part 1: load the data](#0)\n",
    "     - [Exercise 1.1](#ex-11)\n",
    "- [part 2: prepare for inspection](#1)\n",
    "     - [Exercise 2.1](#ex-21)\n",
    "- [part 3: inspect the data](#2)\n",
    "     - [Exercise 3.1](#ex-31)\n",
    "- [part 4: interpolate the data](#3)\n",
    "     - [Exercise 4.1](#ex-41)\n",
    "- [part 5: visualize the data](#4)\n",
    "     - [Exercise 5.1](#ex-51)\n",
    "- [part 6: Challenge](#5)\n",
    "     - [Exercise 6.1](#ex-61)\n",
    "\n",
    "Part 1 and 5 are mandatory, part 6 is optional (bonus)\n",
    "To pass the assingnment you need to a score of 60%. \n"
   ]
  },
  {
   "cell_type": "markdown",
   "metadata": {},
   "source": [
    "<a name='0'></a>\n",
    "## Part 1: Load the data\n",
    "\n",
    "Instructions: Load the json datafile `glucose.json` into a pandas dataframe. Check your dataframe with a `.head()` to compare with the expected outcome\n",
    "\n",
    "<details>    \n",
    "<summary>\n",
    "    <font size=\"3\" color=\"darkgreen\"><b>Hints</b></font>\n",
    "</summary>\n",
    "<ul><li>json.load() method reads a file, pd.read_json converts it to a Pandas DataFrame</li>\n",
    "    <li>when loading into a Pandas DataFrame use records orientation </li>\n",
    "</ul>\n",
    "</details>\n",
    "\n",
    "<a name='ex-11'></a>\n",
    "### Code your solution"
   ]
  },
  {
   "cell_type": "code",
   "execution_count": 86,
   "metadata": {},
   "outputs": [],
   "source": [
    "# CODE YOUR SOLUTION HERE\n",
    "import pandas as pd\n",
    "import _json\n",
    "import json\n",
    "\n",
    "\n"
   ]
  },
  {
   "cell_type": "code",
   "execution_count": 87,
   "metadata": {},
   "outputs": [
    {
     "data": {
      "text/html": [
       "<div>\n",
       "<style scoped>\n",
       "    .dataframe tbody tr th:only-of-type {\n",
       "        vertical-align: middle;\n",
       "    }\n",
       "\n",
       "    .dataframe tbody tr th {\n",
       "        vertical-align: top;\n",
       "    }\n",
       "\n",
       "    .dataframe thead th {\n",
       "        text-align: right;\n",
       "    }\n",
       "</style>\n",
       "<table border=\"1\" class=\"dataframe\">\n",
       "  <thead>\n",
       "    <tr style=\"text-align: right;\">\n",
       "      <th></th>\n",
       "      <th>ID</th>\n",
       "      <th>time</th>\n",
       "      <th>recordtype</th>\n",
       "      <th>glucose</th>\n",
       "    </tr>\n",
       "  </thead>\n",
       "  <tbody>\n",
       "    <tr>\n",
       "      <th>0</th>\n",
       "      <td>2845.0</td>\n",
       "      <td>2019-04-25 00:08</td>\n",
       "      <td>1</td>\n",
       "      <td>109</td>\n",
       "    </tr>\n",
       "    <tr>\n",
       "      <th>1</th>\n",
       "      <td>2850.0</td>\n",
       "      <td>2019-04-25 00:50</td>\n",
       "      <td>1</td>\n",
       "      <td></td>\n",
       "    </tr>\n",
       "    <tr>\n",
       "      <th>2</th>\n",
       "      <td>2877.0</td>\n",
       "      <td>2019-04-25 07:02</td>\n",
       "      <td>1</td>\n",
       "      <td>123</td>\n",
       "    </tr>\n",
       "    <tr>\n",
       "      <th>3</th>\n",
       "      <td>2881.0</td>\n",
       "      <td>2019-04-25 07:34</td>\n",
       "      <td>1</td>\n",
       "      <td>158</td>\n",
       "    </tr>\n",
       "    <tr>\n",
       "      <th>4</th>\n",
       "      <td>2886.0</td>\n",
       "      <td>2019-04-25 08:19</td>\n",
       "      <td>1</td>\n",
       "      <td></td>\n",
       "    </tr>\n",
       "  </tbody>\n",
       "</table>\n",
       "</div>"
      ],
      "text/plain": [
       "       ID              time  recordtype glucose\n",
       "0  2845.0  2019-04-25 00:08           1     109\n",
       "1  2850.0  2019-04-25 00:50           1        \n",
       "2  2877.0  2019-04-25 07:02           1     123\n",
       "3  2881.0  2019-04-25 07:34           1     158\n",
       "4  2886.0  2019-04-25 08:19           1        "
      ]
     },
     "execution_count": 87,
     "metadata": {},
     "output_type": "execute_result"
    }
   ],
   "source": [
    "with open (\"glucose.json\",) as f:\n",
    "    data= json.load(f)\n",
    "    df=pd.read_json(data)\n",
    "df.head()\n"
   ]
  },
  {
   "cell_type": "markdown",
   "metadata": {},
   "source": [
    "#### Expected outcome: "
   ]
  },
  {
   "cell_type": "raw",
   "metadata": {},
   "source": [
    "       ID              time  recordtype glucose\n",
    "0  2845.0  2019-04-25 00:08           1     109\n",
    "1  2850.0  2019-04-25 00:50           1        \n",
    "2  2877.0  2019-04-25 07:02           1     123\n",
    "3  2881.0  2019-04-25 07:34           1     158\n",
    "4  2886.0  2019-04-25 08:19           1        "
   ]
  },
  {
   "cell_type": "markdown",
   "metadata": {},
   "source": [
    "<a name='1'></a>\n",
    "## Part 2: Prepare the data\n",
    "\n",
    "Check the datatypes of your dataframe. The `glucose` field should be an integer, the `time` field should have a datetime format. If the datatypes are different you should typecast them to the right format.\n",
    "Make sure that your dataset is sorted by the time column\n",
    "\n",
    "\n",
    "<details>    \n",
    "<summary>\n",
    "    <font size=\"3\" color=\"darkgreen\"><b>Hints</b></font>\n",
    "</summary>\n",
    "<ul><li>use astype() method or pandas.DataFrame.to_datetime() for instance</li>\n",
    "    <li>make sure that the empty spaces are filled with NaN. Use errors='coerce'</li>\n",
    "    <li>set_index(), sort_index() and reset_index() are helpful to sort on index</li>\n",
    "</ul>\n",
    "</details>\n",
    "\n",
    "<a name='ex-21'></a>\n",
    "### Code your solution"
   ]
  },
  {
   "cell_type": "code",
   "execution_count": 88,
   "metadata": {},
   "outputs": [
    {
     "name": "stdout",
     "output_type": "stream",
     "text": [
      "ID                     int64\n",
      "time          datetime64[ns]\n",
      "recordtype             int64\n",
      "glucose              float64\n",
      "dtype: object\n"
     ]
    }
   ],
   "source": [
    "# CODE YOUR SOLUTION HERE\n",
    "#df=pd.DataFrame(data=df)\n",
    "#df.dtypes()\n",
    "\n",
    "df['time'] = pd.to_datetime(df[\"time\"])\n",
    "df[\"ID\"]=df[\"ID\"].astype(\"int64\")\n",
    "\n",
    "s=pd.Series(df[\"glucose\"])  # use series\n",
    "f=pd.to_numeric(s, errors=\"coerce\")\n",
    "df['glucose'] = f\n",
    "df.head()\n",
    "#df=pd.DataFrame(data=df)\n",
    "\n",
    "\n",
    "df=df.sort_values(\"time\", axis=0, ignore_index=True) \n",
    "print(df.dtypes)\n",
    "#df.head()\n"
   ]
  },
  {
   "cell_type": "markdown",
   "metadata": {},
   "source": [
    "#### Expected outcome: "
   ]
  },
  {
   "cell_type": "markdown",
   "metadata": {},
   "source": []
  },
  {
   "cell_type": "raw",
   "metadata": {},
   "source": [
    "ID                     int64\n",
    "time          datetime64[ns]\n",
    "recordtype             int64\n",
    "glucose              float64\n",
    "dtype: object"
   ]
  },
  {
   "cell_type": "markdown",
   "metadata": {},
   "source": [
    "<a name='2'></a>\n",
    "## Part 3: Inspect the data\n",
    "\n",
    "Now that we prepared the data we are going to inspect the data to get more familiar with the data. You are required to do the following\n",
    "\n",
    "- inspect the percentage missing data for glucose\n",
    "- what is the relationship between recordtype and glucose value?\n",
    "- what is the relationship between ID and glucose value?\n",
    "\n",
    "Code the solutions to your answers. Create meaningful overviews or statistics\n",
    "\n",
    "<details>    \n",
    "<summary>\n",
    "    <font size=\"3\" color=\"darkgreen\"><b>Hints</b></font>\n",
    "</summary>\n",
    "<ul><li>In the week 01 assignment some functions were explained to inspect missing values</li>\n",
    "    <li>In the week 01 assignment some functions were explained to groupby value</li>\n",
    "</ul>\n",
    "</details>\n",
    "\n",
    "<a name='ex-31'></a>\n",
    "### Code your solution"
   ]
  },
  {
   "cell_type": "code",
   "execution_count": 89,
   "metadata": {},
   "outputs": [
    {
     "name": "stdout",
     "output_type": "stream",
     "text": [
      "84\n",
      "136\n",
      "0.6176470588235294\n"
     ]
    }
   ],
   "source": [
    "#CODE YOUR SOLUTION HERE\n",
    "missing_value=df['glucose'].isnull().sum()\n",
    "total=len(pd.DataFrame(df['glucose']))  # geen groupby gebruiken\n",
    "percentage = missing_value/total\n",
    "print(missing_value)\n",
    "print(total)\n",
    "print(percentage)\n",
    "#relationship between recordtype and glucose\n",
    "\n"
   ]
  },
  {
   "cell_type": "code",
   "execution_count": 90,
   "metadata": {},
   "outputs": [
    {
     "name": "stdout",
     "output_type": "stream",
     "text": [
      "nan\n",
      "-0.20610584631462361\n"
     ]
    }
   ],
   "source": [
    "#relationship between recordtype and glucose\n",
    "print(df[\"recordtype\"].corr(df[\"glucose\"]))\n",
    "print(df[\"ID\"].corr(df[\"glucose\"]))\n"
   ]
  },
  {
   "cell_type": "markdown",
   "metadata": {},
   "source": [
    "#### Expected outcome percentage missing data\n",
    "0.6176470588235294"
   ]
  },
  {
   "cell_type": "markdown",
   "metadata": {},
   "source": [
    "<a name='3'></a>\n",
    "## Part 4: Interpolate the data\n",
    "\n",
    "A lot of data is missing. Use interpolation to fill the missing values. Create a new column with the interpolated data. Take an argumentative approach. Select an interpolation method that suits the nature of the data and explain your choice. Mind you that the expected outcome of the interpolation values can differ from the example below\n",
    "\n",
    "<details>    \n",
    "<summary>\n",
    "    <font size=\"3\" color=\"darkgreen\"><b>Hints</b></font>\n",
    "</summary>\n",
    "<ul><li>use Pandas.DataFrame.interpolate() method</li>\n",
    "</ul>\n",
    "</details>\n",
    "\n",
    "<a name='ex-41'></a>\n",
    "### Code your solution"
   ]
  },
  {
   "cell_type": "code",
   "execution_count": 97,
   "metadata": {},
   "outputs": [
    {
     "data": {
      "text/html": [
       "<div>\n",
       "<style scoped>\n",
       "    .dataframe tbody tr th:only-of-type {\n",
       "        vertical-align: middle;\n",
       "    }\n",
       "\n",
       "    .dataframe tbody tr th {\n",
       "        vertical-align: top;\n",
       "    }\n",
       "\n",
       "    .dataframe thead th {\n",
       "        text-align: right;\n",
       "    }\n",
       "</style>\n",
       "<table border=\"1\" class=\"dataframe\">\n",
       "  <thead>\n",
       "    <tr style=\"text-align: right;\">\n",
       "      <th></th>\n",
       "      <th>ID</th>\n",
       "      <th>time</th>\n",
       "      <th>recordtype</th>\n",
       "      <th>glucose</th>\n",
       "      <th>interpolated</th>\n",
       "    </tr>\n",
       "  </thead>\n",
       "  <tbody>\n",
       "    <tr>\n",
       "      <th>0</th>\n",
       "      <td>2845</td>\n",
       "      <td>2019-04-25 00:08:00</td>\n",
       "      <td>1</td>\n",
       "      <td>109.0</td>\n",
       "      <td>109.000000</td>\n",
       "    </tr>\n",
       "    <tr>\n",
       "      <th>1</th>\n",
       "      <td>-9223372036854775808</td>\n",
       "      <td>2019-04-25 00:14:00</td>\n",
       "      <td>0</td>\n",
       "      <td>NaN</td>\n",
       "      <td>98.668461</td>\n",
       "    </tr>\n",
       "    <tr>\n",
       "      <th>2</th>\n",
       "      <td>-9223372036854775808</td>\n",
       "      <td>2019-04-25 00:29:00</td>\n",
       "      <td>0</td>\n",
       "      <td>NaN</td>\n",
       "      <td>89.081625</td>\n",
       "    </tr>\n",
       "    <tr>\n",
       "      <th>3</th>\n",
       "      <td>-9223372036854775808</td>\n",
       "      <td>2019-04-25 00:44:00</td>\n",
       "      <td>0</td>\n",
       "      <td>NaN</td>\n",
       "      <td>80.239493</td>\n",
       "    </tr>\n",
       "    <tr>\n",
       "      <th>4</th>\n",
       "      <td>2850</td>\n",
       "      <td>2019-04-25 00:50:00</td>\n",
       "      <td>1</td>\n",
       "      <td>NaN</td>\n",
       "      <td>72.142065</td>\n",
       "    </tr>\n",
       "  </tbody>\n",
       "</table>\n",
       "</div>"
      ],
      "text/plain": [
       "                    ID                time  recordtype  glucose  interpolated\n",
       "0                 2845 2019-04-25 00:08:00           1    109.0    109.000000\n",
       "1 -9223372036854775808 2019-04-25 00:14:00           0      NaN     98.668461\n",
       "2 -9223372036854775808 2019-04-25 00:29:00           0      NaN     89.081625\n",
       "3 -9223372036854775808 2019-04-25 00:44:00           0      NaN     80.239493\n",
       "4                 2850 2019-04-25 00:50:00           1      NaN     72.142065"
      ]
     },
     "execution_count": 97,
     "metadata": {},
     "output_type": "execute_result"
    }
   ],
   "source": [
    "#CODE YOUR SOLUTION HERE\n",
    "\n",
    "df['interpolated']=df['glucose'].interpolate(method= \"polynomial\", order=2)\n",
    "df.reindex([\"time\", \"ID\",\"recordtype\",\"glucose\"],axis=\"columns\")\n",
    "df.head()\n"
   ]
  },
  {
   "cell_type": "markdown",
   "metadata": {},
   "source": [
    "#### Example outcome"
   ]
  },
  {
   "cell_type": "raw",
   "metadata": {},
   "source": [
    "                 time                   ID  recordtype  glucose  interpolated\n",
    "0 2019-04-25 00:08:00                 2845           1    109.0    109.000000\n",
    "1 2019-04-25 00:14:00 -9223372036854775808           0      NaN    109.466667\n",
    "2 2019-04-25 00:29:00 -9223372036854775808           0      NaN    109.933333\n",
    "3 2019-04-25 00:44:00 -9223372036854775808           0      NaN    110.400000\n",
    "4 2019-04-25 00:50:00                 2850           1      NaN    110.866667"
   ]
  },
  {
   "cell_type": "markdown",
   "metadata": {},
   "source": [
    "<a name='4'></a>\n",
    "## Part 5: Plot the data\n",
    "\n",
    "Create a plot with the original data and the interpolated data. Consider what the best representation is for visualisation of actual values and modelled/imputed values. An example of such a plot is given below. This plot however is not considered the best practice. \n",
    "\n",
    "<details>    \n",
    "<summary>\n",
    "    <font size=\"3\" color=\"darkgreen\"><b>Hints</b></font>\n",
    "</summary>\n",
    "<ul><li>figure(x_axis_type='datetime') automatically makes nices labels of the datetime data</li>\n",
    "</ul>\n",
    "</details>\n",
    "\n",
    "<a name='ex-51'></a>\n",
    "### Code your solution"
   ]
  },
  {
   "cell_type": "code",
   "execution_count": 92,
   "metadata": {},
   "outputs": [
    {
     "data": {
      "text/html": [
       "\n",
       "    <div class=\"bk-root\">\n",
       "        <a href=\"https://bokeh.org\" target=\"_blank\" class=\"bk-logo bk-logo-small bk-logo-notebook\"></a>\n",
       "        <span id=\"2134\">Loading BokehJS ...</span>\n",
       "    </div>"
      ]
     },
     "metadata": {},
     "output_type": "display_data"
    },
    {
     "data": {
      "application/javascript": "\n(function(root) {\n  function now() {\n    return new Date();\n  }\n\n  var force = true;\n\n  if (typeof root._bokeh_onload_callbacks === \"undefined\" || force === true) {\n    root._bokeh_onload_callbacks = [];\n    root._bokeh_is_loading = undefined;\n  }\n\n  var JS_MIME_TYPE = 'application/javascript';\n  var HTML_MIME_TYPE = 'text/html';\n  var EXEC_MIME_TYPE = 'application/vnd.bokehjs_exec.v0+json';\n  var CLASS_NAME = 'output_bokeh rendered_html';\n\n  /**\n   * Render data to the DOM node\n   */\n  function render(props, node) {\n    var script = document.createElement(\"script\");\n    node.appendChild(script);\n  }\n\n  /**\n   * Handle when an output is cleared or removed\n   */\n  function handleClearOutput(event, handle) {\n    var cell = handle.cell;\n\n    var id = cell.output_area._bokeh_element_id;\n    var server_id = cell.output_area._bokeh_server_id;\n    // Clean up Bokeh references\n    if (id != null && id in Bokeh.index) {\n      Bokeh.index[id].model.document.clear();\n      delete Bokeh.index[id];\n    }\n\n    if (server_id !== undefined) {\n      // Clean up Bokeh references\n      var cmd = \"from bokeh.io.state import curstate; print(curstate().uuid_to_server['\" + server_id + \"'].get_sessions()[0].document.roots[0]._id)\";\n      cell.notebook.kernel.execute(cmd, {\n        iopub: {\n          output: function(msg) {\n            var id = msg.content.text.trim();\n            if (id in Bokeh.index) {\n              Bokeh.index[id].model.document.clear();\n              delete Bokeh.index[id];\n            }\n          }\n        }\n      });\n      // Destroy server and session\n      var cmd = \"import bokeh.io.notebook as ion; ion.destroy_server('\" + server_id + \"')\";\n      cell.notebook.kernel.execute(cmd);\n    }\n  }\n\n  /**\n   * Handle when a new output is added\n   */\n  function handleAddOutput(event, handle) {\n    var output_area = handle.output_area;\n    var output = handle.output;\n\n    // limit handleAddOutput to display_data with EXEC_MIME_TYPE content only\n    if ((output.output_type != \"display_data\") || (!Object.prototype.hasOwnProperty.call(output.data, EXEC_MIME_TYPE))) {\n      return\n    }\n\n    var toinsert = output_area.element.find(\".\" + CLASS_NAME.split(' ')[0]);\n\n    if (output.metadata[EXEC_MIME_TYPE][\"id\"] !== undefined) {\n      toinsert[toinsert.length - 1].firstChild.textContent = output.data[JS_MIME_TYPE];\n      // store reference to embed id on output_area\n      output_area._bokeh_element_id = output.metadata[EXEC_MIME_TYPE][\"id\"];\n    }\n    if (output.metadata[EXEC_MIME_TYPE][\"server_id\"] !== undefined) {\n      var bk_div = document.createElement(\"div\");\n      bk_div.innerHTML = output.data[HTML_MIME_TYPE];\n      var script_attrs = bk_div.children[0].attributes;\n      for (var i = 0; i < script_attrs.length; i++) {\n        toinsert[toinsert.length - 1].firstChild.setAttribute(script_attrs[i].name, script_attrs[i].value);\n        toinsert[toinsert.length - 1].firstChild.textContent = bk_div.children[0].textContent\n      }\n      // store reference to server id on output_area\n      output_area._bokeh_server_id = output.metadata[EXEC_MIME_TYPE][\"server_id\"];\n    }\n  }\n\n  function register_renderer(events, OutputArea) {\n\n    function append_mime(data, metadata, element) {\n      // create a DOM node to render to\n      var toinsert = this.create_output_subarea(\n        metadata,\n        CLASS_NAME,\n        EXEC_MIME_TYPE\n      );\n      this.keyboard_manager.register_events(toinsert);\n      // Render to node\n      var props = {data: data, metadata: metadata[EXEC_MIME_TYPE]};\n      render(props, toinsert[toinsert.length - 1]);\n      element.append(toinsert);\n      return toinsert\n    }\n\n    /* Handle when an output is cleared or removed */\n    events.on('clear_output.CodeCell', handleClearOutput);\n    events.on('delete.Cell', handleClearOutput);\n\n    /* Handle when a new output is added */\n    events.on('output_added.OutputArea', handleAddOutput);\n\n    /**\n     * Register the mime type and append_mime function with output_area\n     */\n    OutputArea.prototype.register_mime_type(EXEC_MIME_TYPE, append_mime, {\n      /* Is output safe? */\n      safe: true,\n      /* Index of renderer in `output_area.display_order` */\n      index: 0\n    });\n  }\n\n  // register the mime type if in Jupyter Notebook environment and previously unregistered\n  if (root.Jupyter !== undefined) {\n    var events = require('base/js/events');\n    var OutputArea = require('notebook/js/outputarea').OutputArea;\n\n    if (OutputArea.prototype.mime_types().indexOf(EXEC_MIME_TYPE) == -1) {\n      register_renderer(events, OutputArea);\n    }\n  }\n\n  \n  if (typeof (root._bokeh_timeout) === \"undefined\" || force === true) {\n    root._bokeh_timeout = Date.now() + 5000;\n    root._bokeh_failed_load = false;\n  }\n\n  var NB_LOAD_WARNING = {'data': {'text/html':\n     \"<div style='background-color: #fdd'>\\n\"+\n     \"<p>\\n\"+\n     \"BokehJS does not appear to have successfully loaded. If loading BokehJS from CDN, this \\n\"+\n     \"may be due to a slow or bad network connection. Possible fixes:\\n\"+\n     \"</p>\\n\"+\n     \"<ul>\\n\"+\n     \"<li>re-rerun `output_notebook()` to attempt to load from CDN again, or</li>\\n\"+\n     \"<li>use INLINE resources instead, as so:</li>\\n\"+\n     \"</ul>\\n\"+\n     \"<code>\\n\"+\n     \"from bokeh.resources import INLINE\\n\"+\n     \"output_notebook(resources=INLINE)\\n\"+\n     \"</code>\\n\"+\n     \"</div>\"}};\n\n  function display_loaded() {\n    var el = document.getElementById(\"2134\");\n    if (el != null) {\n      el.textContent = \"BokehJS is loading...\";\n    }\n    if (root.Bokeh !== undefined) {\n      if (el != null) {\n        el.textContent = \"BokehJS \" + root.Bokeh.version + \" successfully loaded.\";\n      }\n    } else if (Date.now() < root._bokeh_timeout) {\n      setTimeout(display_loaded, 100)\n    }\n  }\n\n\n  function run_callbacks() {\n    try {\n      root._bokeh_onload_callbacks.forEach(function(callback) {\n        if (callback != null)\n          callback();\n      });\n    } finally {\n      delete root._bokeh_onload_callbacks\n    }\n    console.debug(\"Bokeh: all callbacks have finished\");\n  }\n\n  function load_libs(css_urls, js_urls, callback) {\n    if (css_urls == null) css_urls = [];\n    if (js_urls == null) js_urls = [];\n\n    root._bokeh_onload_callbacks.push(callback);\n    if (root._bokeh_is_loading > 0) {\n      console.debug(\"Bokeh: BokehJS is being loaded, scheduling callback at\", now());\n      return null;\n    }\n    if (js_urls == null || js_urls.length === 0) {\n      run_callbacks();\n      return null;\n    }\n    console.debug(\"Bokeh: BokehJS not loaded, scheduling load and callback at\", now());\n    root._bokeh_is_loading = css_urls.length + js_urls.length;\n\n    function on_load() {\n      root._bokeh_is_loading--;\n      if (root._bokeh_is_loading === 0) {\n        console.debug(\"Bokeh: all BokehJS libraries/stylesheets loaded\");\n        run_callbacks()\n      }\n    }\n\n    function on_error(url) {\n      console.error(\"failed to load \" + url);\n    }\n\n    for (let i = 0; i < css_urls.length; i++) {\n      const url = css_urls[i];\n      const element = document.createElement(\"link\");\n      element.onload = on_load;\n      element.onerror = on_error.bind(null, url);\n      element.rel = \"stylesheet\";\n      element.type = \"text/css\";\n      element.href = url;\n      console.debug(\"Bokeh: injecting link tag for BokehJS stylesheet: \", url);\n      document.body.appendChild(element);\n    }\n\n    const hashes = {\"https://cdn.bokeh.org/bokeh/release/bokeh-2.3.2.min.js\": \"XypntL49z55iwGVUW4qsEu83zKL3XEcz0MjuGOQ9SlaaQ68X/g+k1FcioZi7oQAc\", \"https://cdn.bokeh.org/bokeh/release/bokeh-tables-2.3.2.min.js\": \"bEsM86IHGDTLCS0Zod8a8WM6Y4+lafAL/eSiyQcuPzinmWNgNO2/olUF0Z2Dkn5i\", \"https://cdn.bokeh.org/bokeh/release/bokeh-widgets-2.3.2.min.js\": \"TX0gSQTdXTTeScqxj6PVQxTiRW8DOoGVwinyi1D3kxv7wuxQ02XkOxv0xwiypcAH\"};\n\n    for (let i = 0; i < js_urls.length; i++) {\n      const url = js_urls[i];\n      const element = document.createElement('script');\n      element.onload = on_load;\n      element.onerror = on_error.bind(null, url);\n      element.async = false;\n      element.src = url;\n      if (url in hashes) {\n        element.crossOrigin = \"anonymous\";\n        element.integrity = \"sha384-\" + hashes[url];\n      }\n      console.debug(\"Bokeh: injecting script tag for BokehJS library: \", url);\n      document.head.appendChild(element);\n    }\n  };\n\n  function inject_raw_css(css) {\n    const element = document.createElement(\"style\");\n    element.appendChild(document.createTextNode(css));\n    document.body.appendChild(element);\n  }\n\n  \n  var js_urls = [\"https://cdn.bokeh.org/bokeh/release/bokeh-2.3.2.min.js\", \"https://cdn.bokeh.org/bokeh/release/bokeh-widgets-2.3.2.min.js\", \"https://cdn.bokeh.org/bokeh/release/bokeh-tables-2.3.2.min.js\"];\n  var css_urls = [];\n  \n\n  var inline_js = [\n    function(Bokeh) {\n      Bokeh.set_log_level(\"info\");\n    },\n    function(Bokeh) {\n    \n    \n    }\n  ];\n\n  function run_inline_js() {\n    \n    if (root.Bokeh !== undefined || force === true) {\n      \n    for (var i = 0; i < inline_js.length; i++) {\n      inline_js[i].call(root, root.Bokeh);\n    }\n    if (force === true) {\n        display_loaded();\n      }} else if (Date.now() < root._bokeh_timeout) {\n      setTimeout(run_inline_js, 100);\n    } else if (!root._bokeh_failed_load) {\n      console.log(\"Bokeh: BokehJS failed to load within specified timeout.\");\n      root._bokeh_failed_load = true;\n    } else if (force !== true) {\n      var cell = $(document.getElementById(\"2134\")).parents('.cell').data().cell;\n      cell.output_area.append_execute_result(NB_LOAD_WARNING)\n    }\n\n  }\n\n  if (root._bokeh_is_loading === 0) {\n    console.debug(\"Bokeh: BokehJS loaded, going straight to plotting\");\n    run_inline_js();\n  } else {\n    load_libs(css_urls, js_urls, function() {\n      console.debug(\"Bokeh: BokehJS plotting callback run at\", now());\n      run_inline_js();\n    });\n  }\n}(window));",
      "application/vnd.bokehjs_load.v0+json": ""
     },
     "metadata": {},
     "output_type": "display_data"
    }
   ],
   "source": [
    "from bokeh.io import output_notebook\n",
    "from bokeh.plotting import figure, show\n",
    "from bokeh.layouts import gridplot\n",
    "from bokeh.io import output_notebook\n",
    "from bokeh.plotting import ColumnDataSource\n",
    "output_notebook()"
   ]
  },
  {
   "cell_type": "markdown",
   "metadata": {},
   "source": []
  },
  {
   "cell_type": "code",
   "execution_count": 102,
   "metadata": {},
   "outputs": [
    {
     "data": {
      "text/html": [
       "\n",
       "\n",
       "\n",
       "\n",
       "\n",
       "\n",
       "  <div class=\"bk-root\" id=\"45733e48-a056-49f4-9419-8c5d39fd275c\" data-root-id=\"2420\"></div>\n"
      ]
     },
     "metadata": {},
     "output_type": "display_data"
    },
    {
     "data": {
      "application/javascript": "(function(root) {\n  function embed_document(root) {\n    \n  var docs_json = {\"797abf09-7742-43a7-9756-4948935d3225\":{\"defs\":[],\"roots\":{\"references\":[{\"attributes\":{\"below\":[{\"id\":\"2429\"}],\"center\":[{\"id\":\"2432\"},{\"id\":\"2436\"}],\"height\":500,\"left\":[{\"id\":\"2433\"}],\"renderers\":[{\"id\":\"2454\"}],\"title\":{\"id\":\"2555\"},\"toolbar\":{\"id\":\"2444\"},\"width\":500,\"x_range\":{\"id\":\"2421\"},\"x_scale\":{\"id\":\"2425\"},\"y_range\":{\"id\":\"2423\"},\"y_scale\":{\"id\":\"2427\"}},\"id\":\"2420\",\"subtype\":\"Figure\",\"type\":\"Plot\"},{\"attributes\":{\"line_alpha\":0.1,\"line_color\":\"olive\",\"x\":{\"field\":\"x\"},\"y\":{\"field\":\"y\"}},\"id\":\"2453\",\"type\":\"Line\"},{\"attributes\":{},\"id\":\"2437\",\"type\":\"PanTool\"},{\"attributes\":{},\"id\":\"2560\",\"type\":\"BasicTickFormatter\"},{\"attributes\":{},\"id\":\"2430\",\"type\":\"BasicTicker\"},{\"attributes\":{},\"id\":\"2561\",\"type\":\"AllLabels\"},{\"attributes\":{},\"id\":\"2555\",\"type\":\"Title\"},{\"attributes\":{\"axis\":{\"id\":\"2429\"},\"ticker\":null},\"id\":\"2432\",\"type\":\"Grid\"},{\"attributes\":{\"bottom_units\":\"screen\",\"fill_alpha\":0.5,\"fill_color\":\"lightgrey\",\"left_units\":\"screen\",\"level\":\"overlay\",\"line_alpha\":1.0,\"line_color\":\"black\",\"line_dash\":[4,4],\"line_width\":2,\"right_units\":\"screen\",\"syncable\":false,\"top_units\":\"screen\"},\"id\":\"2443\",\"type\":\"BoxAnnotation\"},{\"attributes\":{},\"id\":\"2423\",\"type\":\"DataRange1d\"},{\"attributes\":{},\"id\":\"2441\",\"type\":\"ResetTool\"},{\"attributes\":{\"formatter\":{\"id\":\"2560\"},\"major_label_policy\":{\"id\":\"2561\"},\"ticker\":{\"id\":\"2434\"}},\"id\":\"2433\",\"type\":\"LinearAxis\"},{\"attributes\":{},\"id\":\"2440\",\"type\":\"SaveTool\"},{\"attributes\":{},\"id\":\"2438\",\"type\":\"WheelZoomTool\"},{\"attributes\":{},\"id\":\"2563\",\"type\":\"UnionRenderers\"},{\"attributes\":{},\"id\":\"2564\",\"type\":\"Selection\"},{\"attributes\":{},\"id\":\"2425\",\"type\":\"LinearScale\"},{\"attributes\":{\"formatter\":{\"id\":\"2557\"},\"major_label_policy\":{\"id\":\"2558\"},\"ticker\":{\"id\":\"2430\"}},\"id\":\"2429\",\"type\":\"LinearAxis\"},{\"attributes\":{},\"id\":\"2442\",\"type\":\"HelpTool\"},{\"attributes\":{\"source\":{\"id\":\"2451\"}},\"id\":\"2455\",\"type\":\"CDSView\"},{\"attributes\":{\"active_multi\":null,\"tools\":[{\"id\":\"2437\"},{\"id\":\"2438\"},{\"id\":\"2439\"},{\"id\":\"2440\"},{\"id\":\"2441\"},{\"id\":\"2442\"}]},\"id\":\"2444\",\"type\":\"Toolbar\"},{\"attributes\":{\"axis\":{\"id\":\"2433\"},\"dimension\":1,\"ticker\":null},\"id\":\"2436\",\"type\":\"Grid\"},{\"attributes\":{},\"id\":\"2434\",\"type\":\"BasicTicker\"},{\"attributes\":{\"overlay\":{\"id\":\"2443\"}},\"id\":\"2439\",\"type\":\"BoxZoomTool\"},{\"attributes\":{},\"id\":\"2557\",\"type\":\"BasicTickFormatter\"},{\"attributes\":{\"data\":{\"x\":{\"__ndarray__\":\"AABwIB2ldkIAAFR4HaV2QgAADlQepXZCAADILx+ldkIAAKyHH6V2QgAAggsgpXZCAAA85yCldkIAAPbCIaV2QgAAsJ4ipXZCAABqeiOldkIAACRWJKV2QgAA3jElpXZCAACYDSaldkIAAFLpJqV2QgAADMUnpXZCAADGoCildkIAAIB8KaV2QgAAOlgqpXZCAAD0MyuldkIAAK4PLKV2QgAAaOsspXZCAAAixy2ldkIAANyiLqV2QgAAln4vpXZCAABQWjCldkIAAAo2MaV2QgAAxBEypXZCAAB+7TKldkIAADjJM6V2QgAAmLM0pXZCAADk0DSldkIAAFKPNaV2QgAADGs2pXZCAACkpTaldkIAAMZGN6V2QgAAgCI4pXZCAADgDDmldkIAANI4OaV2QgAAmug5pXZCAABUxDqldkIAAA6gO6V2QgAAyHs8pXZCAACCVz2ldkIAADwzPqV2QgAA9g4/pXZCAACw6j+ldkIAAGrGQKV2QgAAJKJBpXZCAADefUKldkIAAN59QqV2QgAAmFlDpXZCAABSNUSldkIAAAwRRaV2QgAAxuxFpXZCAACAyEaldkIAADqkR6V2QgAA9H9IpXZCAACuW0mldkIAABwaSqV2QgAAaDdKpXZCAABQpk2ldkIAAPa0TaV2QgAACoJOpXZCAAAeT0+ldkIAAJrhT6V2QgAAMhxQpXZCAADYKlCldkIAAPrLUKV2QgAAhDJRpXZCAAAcbVGldkIAANZIUqV2QgAAfFdSpXZCAABgr1KldkIAAFLbUqV2QgAA6hVTpXZCAACCUFOldkIAAGaoU6V2QgAA1GZUpXZCAADGklSldkIAAJwWVaV2QgAA2l9VpXZCAABymlWldkIAAB6iVqV2QgAAThdXpXZCAADKqVeldkIAALzVV6V2QgAA+h5YpXZCAABGPFildkIAAJJZWKV2QgAAhIVYpXZCAAAcwFildkIAAGjdWKV2QgAADuxYpXZCAAC0+lildkIAAJhSWaV2QgAA5G9ZpXZCAAAiuVmldkIAAG7WWaV2QgAABhFapXZCAACeS1qldkIAADaGWqV2QgAANoZapXZCAAAoslqldkIAAGb7WqV2QgAA/jVbpXZCAACWcFuldkIAAO5/XaV2QgAAxANepXZCAABOal6ldkIAADLCXqV2QgAAft9epXZCAABGj1+ldkIAADi7X6V2QgAA8pZgpXZCAACscmGldkIAAGZOYqV2QgAAICpjpXZCAADaBWSldkIAADrwZKV2QgAAEHRlpXZCAAD0y2WldkIAAK6nZqV2QgAAhCtnpXZCAABog2eldkIAAHxQaKV2QgAAIl9opXZCAADcOmmldkIAAJYWaqV2QgAALlFqpXZCAACq42qldkIAAEIea6V2QgAAZL9rpXZCAADEqWyldkIAADJobaV2QgAAfoVtpXZCAAA4YW6ldkI=\",\"dtype\":\"float64\",\"order\":\"little\",\"shape\":[136]},\"y\":{\"__ndarray__\":\"AAAAAABAW0DIO68OyKpYQDudy1c5RVZAViRV21MPVEAc0UuZFwlSQIijr5GEMlBAPzcBiTUXTUC+cn1jtChKQJL507KFmUdAtssEd6lpRUAu6Q+wH5lDQPhR9V3oJ0JAEwa1gAMWQUCABU8YcWNAQEJQwyQxEEBAVOYRpkMcQEC4xzqcqIdAQHD0PQdgUkFAemwb52l8QkDUL9M7xgVEQII+ZQV17kVAhJjRQ3Y2SEDXPRj3yd1KQHwuOR9w5E1AOTUaXjSlUEDe+ATn2YdSQCziXKoomlRAIvEhqCDcVkDDJVTgwU1ZQAyA81IM71tAAAAAAADAXkDN0rxzTuBgQFeIe5vXbGJAAAAAAADAY0CziRW4Lc5kQGwlvMNgl2VALdPzIpkbZkD2krzV1lpmQMhkFtwZVWZAoUgBNmIKZkCAPn3jr3plQGpGiuQCpmRAH/xyzqXAY0Bl+4E24/5iQD1Etxy7YGJAqdYSgS3mYUCjspRjOo9hQDDYPMThW2FAUEcLoyNMYUAAAAAAAGBhQEICG9t2l2FAFk5cNIjyYUB748MLNHFiQHLCUWF6E2NAN2voTBzIY0A339ZdoCdkQK2e/6vHIGRAm6liN5KzY0AAAAAAAOBiQNuh1wURpmFALwcAT1BCYEAAAAAAACBgQFAE7h6re2FAAAAAAAAgZEAAAAAAAABnQAAAAAAAQGZAAAAAAABAZkAAAAAAAEBeQAAAAAAAwFtAAAAAAACAWkAAAAAAAMBWQAAAAAAAQFhAAAAAAACAWkAAAAAAAIBaQAAAAAAAQFhAAAAAAACAVUDFAPNnn+lXQAAAAAAAgFxAtH5mIUtaX0AAAAAAACBgQAQHps+d+F5AAAAAAACAXUAAAAAAAIBdQAAAAAAAwFxAAAAAAABAWkAAAAAAAEBbQAAAAAAAwFpAAAAAAADAW0AAAAAAAABeQAAAAAAAIGFAAAAAAADAYEAItUH/h2BgQAAAAAAAIGBAAAAAAABAX0AAAAAAAIBeQAAAAAAAAF9ADoRuvZbZX0AAAAAAAMBfQAAAAAAAQF5AAAAAAADAXkAAAAAAAIBeQJoTHIbhll5AAAAAAAAAX0AAAAAAAIBfQAAAAAAAAGBAongfNAV9XUAAAAAAAIBbQHrGCWpkFV5AAAAAAAAAYEAAAAAAAABdQIKDJoyiBVtAAAAAAACAWkB6y74G0eBaQOzlYqAVKFxAWk/szM1VXkDhgy3G/LRgQJovHw1zKmJA3dISWXADY0CobQiq9D9jQAAAAAAA4GJA4on5WpLjYUBGp70MFXpgQAAAAAAAgF9AEGASDXnJX0AAAAAAAEBgQIk4C8x/KWBAQ7NV1XdCX0DSG+ontNBdQAAAAAAAgFxAyl+XXVtQW0AAAAAAAIBaQHGliaYnTVpAHFA0UdK3WkAAAAAAAMBbQAAAAAAAAPh/AAAAAAAA+H8=\",\"dtype\":\"float64\",\"order\":\"little\",\"shape\":[136]}},\"selected\":{\"id\":\"2564\"},\"selection_policy\":{\"id\":\"2563\"}},\"id\":\"2451\",\"type\":\"ColumnDataSource\"},{\"attributes\":{},\"id\":\"2427\",\"type\":\"LinearScale\"},{\"attributes\":{\"line_color\":\"olive\",\"x\":{\"field\":\"x\"},\"y\":{\"field\":\"y\"}},\"id\":\"2452\",\"type\":\"Line\"},{\"attributes\":{},\"id\":\"2558\",\"type\":\"AllLabels\"},{\"attributes\":{\"data_source\":{\"id\":\"2451\"},\"glyph\":{\"id\":\"2452\"},\"hover_glyph\":null,\"muted_glyph\":null,\"nonselection_glyph\":{\"id\":\"2453\"},\"view\":{\"id\":\"2455\"}},\"id\":\"2454\",\"type\":\"GlyphRenderer\"},{\"attributes\":{},\"id\":\"2421\",\"type\":\"DataRange1d\"}],\"root_ids\":[\"2420\"]},\"title\":\"Bokeh Application\",\"version\":\"2.3.2\"}};\n  var render_items = [{\"docid\":\"797abf09-7742-43a7-9756-4948935d3225\",\"root_ids\":[\"2420\"],\"roots\":{\"2420\":\"45733e48-a056-49f4-9419-8c5d39fd275c\"}}];\n  root.Bokeh.embed.embed_items_notebook(docs_json, render_items);\n\n  }\n  if (root.Bokeh !== undefined) {\n    embed_document(root);\n  } else {\n    var attempts = 0;\n    var timer = setInterval(function(root) {\n      if (root.Bokeh !== undefined) {\n        clearInterval(timer);\n        embed_document(root);\n      } else {\n        attempts++;\n        if (attempts > 100) {\n          clearInterval(timer);\n          console.log(\"Bokeh: ERROR: Unable to run BokehJS code because BokehJS library is missing\");\n        }\n      }\n    }, 10, root)\n  }\n})(window);",
      "application/vnd.bokehjs_exec.v0+json": ""
     },
     "metadata": {
      "application/vnd.bokehjs_exec.v0+json": {
       "id": "2420"
      }
     },
     "output_type": "display_data"
    }
   ],
   "source": [
    "#CODE YOUR SOLUTION HERE\n",
    "from bokeh.plotting import figure,show\n",
    "\n",
    "p= figure(width=500, height=500)\n",
    "p.line(df['time'], df['interpolated'], color=\"olive\", alpha=1)\n",
    "show(p)"
   ]
  },
  {
   "cell_type": "markdown",
   "metadata": {},
   "source": [
    "<a name='6'></a>\n",
    "## Part 6: Challenge\n",
    "\n",
    "It might even be interesting to introduce a widget in which you can select different methods to interpolate.\n",
    "1. Can you improve the interpolation by choosing an other method?\n",
    "2. Can you add an rolling mean line? \n",
    "2. Can you improve the plot by making it interactive?\n",
    "\n",
    "<a name='ex-61'></a>\n",
    "### Code your solution"
   ]
  },
  {
   "cell_type": "code",
   "execution_count": 94,
   "metadata": {},
   "outputs": [],
   "source": [
    "#CODE YOUR SOLUTION HERE"
   ]
  }
 ],
 "metadata": {
  "kernelspec": {
   "display_name": "Python 3",
   "language": "python",
   "name": "python3"
  },
  "language_info": {
   "codemirror_mode": {
    "name": "ipython",
    "version": 3
   },
   "file_extension": ".py",
   "mimetype": "text/x-python",
   "name": "python",
   "nbconvert_exporter": "python",
   "pygments_lexer": "ipython3",
   "version": "3.8.8"
  }
 },
 "nbformat": 4,
 "nbformat_minor": 4
}
